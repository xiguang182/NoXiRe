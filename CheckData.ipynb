{
 "cells": [
  {
   "cell_type": "code",
   "execution_count": 5,
   "id": "85f3b448-699e-4af7-8d29-6cf360f35011",
   "metadata": {},
   "outputs": [],
   "source": [
    "import pandas as pd\n",
    "import numpy as np\n",
    "import math\n",
    "import os\n",
    "import glob\n",
    "import struct\n",
    "from tqdm import tqdm"
   ]
  },
  {
   "cell_type": "code",
   "execution_count": 6,
   "id": "7c81b00c-960d-4da1-aebc-46a78b0db463",
   "metadata": {},
   "outputs": [],
   "source": [
    "path = './data/aria-noxi/001_2016-03-17_Paris/smile.novice.system.csv'\n",
    "pathe = './data/aria-noxi/001_2016-03-17_Paris/engagement.novice.gold.csv'\n",
    "bin_file = './data/aria-noxi/001_2016-03-17_Paris/novice.au.stream~'\n",
    "file_name = './test.csv'\n",
    "root = './data/aria-noxi'\n",
    "save_folder = './processed_data'\n",
    "# every sample folder should have these 9 files\n",
    "list_of_files = ['engagement.csv','expert.au.stream','expert.face.stream','expert.head.stream','expert.skel.stream','expert.video[crop].mp4','novice.au.stream','novice.face.stream','novice.head.stream','novice.skel.stream','expert.video[crop].mp4']\n",
    "debug = False\n",
    "list_of_pattern_dim = [('*au.stream~', 17), ('*head.stream~', 3), ('*face.stream~', 4041), ('*skel.stream~', 350)]\n",
    "modalities = ['au', 'head', 'face', 'skel']"
   ]
  },
  {
   "cell_type": "code",
   "execution_count": 7,
   "id": "679980c0-bfec-4ad9-9aec-8a3dc7a9a4d5",
   "metadata": {},
   "outputs": [],
   "source": [
    "def search_directories(path):\n",
    "    return [f for f in os.listdir(root) if not os.path.isfile(os.path.join(root, f))]\n",
    "\n",
    "def time_to_frame(time):\n",
    "    return int(np.rint(time * 100 / 4))\n",
    "\n",
    "def get_save_path(path, prefix = 'processed_'):\n",
    "    head, tail = os.path.split(path)\n",
    "    tail = prefix + tail\n",
    "    return os.path.join(head, tail)\n",
    "\n",
    "def search_pattern(root, pattern):\n",
    "    all_path = []\n",
    "    samples = search_directories(root)\n",
    "    for sample in samples:\n",
    "        path_list = glob.glob(os.path.join(root, sample, pattern))\n",
    "        path_list.sort()\n",
    "        all_path.extend(path_list)\n",
    "    return all_path\n"
   ]
  },
  {
   "cell_type": "code",
   "execution_count": 8,
   "id": "f07511e6-3c56-44d7-a0fb-10c37e504f6d",
   "metadata": {},
   "outputs": [],
   "source": [
    "def get_stream_save_path(path, save_folder):\n",
    "    head, tail = os.path.split(path)\n",
    "    _, sample = os.path.split(head)\n",
    "    tmp = tail.split('.')\n",
    "    ret = sample\n",
    "    for i in tmp[:-1]:\n",
    "        ret += '_' + i\n",
    "    ret += '.csv'\n",
    "    return os.path.join(save_folder, ret)"
   ]
  },
  {
   "cell_type": "code",
   "execution_count": 9,
   "id": "c2b3d883-1fc6-42da-8c5e-5a036a2d584a",
   "metadata": {},
   "outputs": [],
   "source": [
    "# check all files for every sample (not the contents of files)\n",
    "def validate_integrity(root):\n",
    "    flag = True\n",
    "    samples = search_directories(root)\n",
    "    for sample in samples:\n",
    "        for file in list_of_files:\n",
    "            if os.path.isfile(os.path.join(root, sample, file)) is not True:\n",
    "                print(f'{sample} is missing {file}')\n",
    "                flag = False\n",
    "    return flag\n",
    "\n",
    "def binary_to_csv(path, save_path, dim, byte_num = 4):\n",
    "#     with open(path, 'rb') as f:\n",
    "#         val = f.read()\n",
    "#         print(len(val))\n",
    "    with open(path, 'rb') as f:\n",
    "        feat_list = []\n",
    "        while(True):\n",
    "            val = f.read(dim * byte_num)\n",
    "            if len(val) == 0:\n",
    "                break;\n",
    "            elif len(val) < (dim * byte_num):\n",
    "                print('incomplete feature sample (less than one sample bytes read)', len(val), path)\n",
    "                break;\n",
    "            feat_set = []\n",
    "            for i in range(0, dim * byte_num, 4):\n",
    "                num = struct.unpack('f', val[i:i+4])[0]\n",
    "                feat_set.append(num)\n",
    "\n",
    "            feat_list.append(feat_set)\n",
    "        df = pd.DataFrame(feat_list)\n",
    "#         print(df)\n",
    "        df.to_csv(save_path, index = False, encoding = 'utf-8')"
   ]
  },
  {
   "cell_type": "code",
   "execution_count": 10,
   "id": "bb54cde8-22f3-4456-8369-ccc2c25b11b1",
   "metadata": {},
   "outputs": [],
   "source": [
    "def check_len(root, list_of_pattern_dim = [('*au.stream~', 17), ('*head.stream~', 3), ('*face.stream~', 4041), ('*skel.stream~', 350)], debug = False):\n",
    "    samples = search_directories(root)\n",
    "    tmp = 0\n",
    "    flag = True\n",
    "    for sample in tqdm(samples):\n",
    "        \n",
    "        for pattern, dim in list_of_pattern_dim:\n",
    "            stream_list = glob.glob(os.path.join(root, sample, pattern))\n",
    "            for stream_ in stream_list:\n",
    "                if tmp == 0:\n",
    "                    tmp = os.path.getsize(stream_) / dim\n",
    "                else:\n",
    "                    if tmp != os.path.getsize(stream_) / dim:\n",
    "                        print(f'{sample} streams frame dismatch')\n",
    "                        flag = False\n",
    "        tmp = 0\n",
    "        # print(stream_list)\n",
    "        # print([os.path.getsize(f) for f in stream_list])\n",
    "        if debug:\n",
    "            break\n",
    "        return flag\n",
    "    \n",
    "#clean up processed binary stream\n",
    "def clean_up(save_folder = './processed_data'):\n",
    "    all_csv = glob.glob(os.path.join(save_folder, '*au.csv'))\n",
    "    all_csv.extend(glob.glob(os.path.join(save_folder, '*face.csv')))\n",
    "    all_csv.extend(glob.glob(os.path.join(save_folder, '*head.csv')))\n",
    "    all_csv.extend(glob.glob(os.path.join(save_folder, '*skel.csv')))\n",
    "    for path in all_csv:\n",
    "        os.remove(path)\n",
    "        \n",
    "def binary2csv(root, pattern, dim, debug = False, save_folder = './processed_data'):\n",
    "    bin_list = search_pattern(root, pattern)\n",
    "    dim = dim\n",
    "    for bin_ in tqdm(bin_list):\n",
    "\n",
    "        save_path = get_stream_save_path(bin_, save_folder)\n",
    "        binary_to_csv(bin_, save_path, dim)\n",
    "\n",
    "        if debug:\n",
    "            break\n",
    "\n"
   ]
  },
  {
   "cell_type": "code",
   "execution_count": 11,
   "id": "e17d425f-e0b2-41e1-84c0-35bba7410afd",
   "metadata": {},
   "outputs": [
    {
     "data": {
      "text/plain": [
       "True"
      ]
     },
     "execution_count": 11,
     "metadata": {},
     "output_type": "execute_result"
    }
   ],
   "source": [
    "validate_integrity(root)"
   ]
  },
  {
   "cell_type": "code",
   "execution_count": 12,
   "id": "d8d4e581-9ad7-429d-89e7-c43d06ea624b",
   "metadata": {},
   "outputs": [],
   "source": [
    "binary_to_csv(bin_file, file_name, 17)"
   ]
  },
  {
   "cell_type": "code",
   "execution_count": 13,
   "id": "dd71ec72-bf6f-4198-a6de-711434e6c70c",
   "metadata": {},
   "outputs": [
    {
     "name": "stderr",
     "output_type": "stream",
     "text": [
      "  0%|          | 0/162 [00:00<?, ?it/s]\n"
     ]
    },
    {
     "ename": "OSError",
     "evalue": "Cannot save file into a non-existent directory: 'processed_data'",
     "output_type": "error",
     "traceback": [
      "\u001b[0;31m---------------------------------------------------------------------------\u001b[0m",
      "\u001b[0;31mOSError\u001b[0m                                   Traceback (most recent call last)",
      "\u001b[1;32m/home/s2020425/NoXiRe/CheckData.ipynb Cell 9\u001b[0m line \u001b[0;36m3\n\u001b[1;32m      <a href='vscode-notebook-cell://ssh-remote%2Bspcc-141.jaist.ac.jp/home/s2020425/NoXiRe/CheckData.ipynb#X11sdnNjb2RlLXJlbW90ZQ%3D%3D?line=0'>1</a>\u001b[0m clean_up()\n\u001b[1;32m      <a href='vscode-notebook-cell://ssh-remote%2Bspcc-141.jaist.ac.jp/home/s2020425/NoXiRe/CheckData.ipynb#X11sdnNjb2RlLXJlbW90ZQ%3D%3D?line=1'>2</a>\u001b[0m \u001b[39mfor\u001b[39;00m pattern, dim \u001b[39min\u001b[39;00m list_of_pattern_dim:\n\u001b[0;32m----> <a href='vscode-notebook-cell://ssh-remote%2Bspcc-141.jaist.ac.jp/home/s2020425/NoXiRe/CheckData.ipynb#X11sdnNjb2RlLXJlbW90ZQ%3D%3D?line=2'>3</a>\u001b[0m     binary2csv(root, pattern, dim, debug \u001b[39m=\u001b[39;49m debug)\n",
      "\u001b[1;32m/home/s2020425/NoXiRe/CheckData.ipynb Cell 9\u001b[0m line \u001b[0;36m3\n\u001b[1;32m     <a href='vscode-notebook-cell://ssh-remote%2Bspcc-141.jaist.ac.jp/home/s2020425/NoXiRe/CheckData.ipynb#X11sdnNjb2RlLXJlbW90ZQ%3D%3D?line=34'>35</a>\u001b[0m \u001b[39mfor\u001b[39;00m bin_ \u001b[39min\u001b[39;00m tqdm(bin_list):\n\u001b[1;32m     <a href='vscode-notebook-cell://ssh-remote%2Bspcc-141.jaist.ac.jp/home/s2020425/NoXiRe/CheckData.ipynb#X11sdnNjb2RlLXJlbW90ZQ%3D%3D?line=36'>37</a>\u001b[0m     save_path \u001b[39m=\u001b[39m get_stream_save_path(bin_, save_folder)\n\u001b[0;32m---> <a href='vscode-notebook-cell://ssh-remote%2Bspcc-141.jaist.ac.jp/home/s2020425/NoXiRe/CheckData.ipynb#X11sdnNjb2RlLXJlbW90ZQ%3D%3D?line=37'>38</a>\u001b[0m     binary_to_csv(bin_, save_path, dim)\n\u001b[1;32m     <a href='vscode-notebook-cell://ssh-remote%2Bspcc-141.jaist.ac.jp/home/s2020425/NoXiRe/CheckData.ipynb#X11sdnNjb2RlLXJlbW90ZQ%3D%3D?line=39'>40</a>\u001b[0m     \u001b[39mif\u001b[39;00m debug:\n\u001b[1;32m     <a href='vscode-notebook-cell://ssh-remote%2Bspcc-141.jaist.ac.jp/home/s2020425/NoXiRe/CheckData.ipynb#X11sdnNjb2RlLXJlbW90ZQ%3D%3D?line=40'>41</a>\u001b[0m         \u001b[39mbreak\u001b[39;00m\n",
      "\u001b[1;32m/home/s2020425/NoXiRe/CheckData.ipynb Cell 9\u001b[0m line \u001b[0;36m3\n\u001b[1;32m     <a href='vscode-notebook-cell://ssh-remote%2Bspcc-141.jaist.ac.jp/home/s2020425/NoXiRe/CheckData.ipynb#X11sdnNjb2RlLXJlbW90ZQ%3D%3D?line=30'>31</a>\u001b[0m         df \u001b[39m=\u001b[39m pd\u001b[39m.\u001b[39mDataFrame(feat_list)\n\u001b[1;32m     <a href='vscode-notebook-cell://ssh-remote%2Bspcc-141.jaist.ac.jp/home/s2020425/NoXiRe/CheckData.ipynb#X11sdnNjb2RlLXJlbW90ZQ%3D%3D?line=31'>32</a>\u001b[0m \u001b[39m#         print(df)\u001b[39;00m\n\u001b[0;32m---> <a href='vscode-notebook-cell://ssh-remote%2Bspcc-141.jaist.ac.jp/home/s2020425/NoXiRe/CheckData.ipynb#X11sdnNjb2RlLXJlbW90ZQ%3D%3D?line=32'>33</a>\u001b[0m         df\u001b[39m.\u001b[39;49mto_csv(save_path, index \u001b[39m=\u001b[39;49m \u001b[39mFalse\u001b[39;49;00m, encoding \u001b[39m=\u001b[39;49m \u001b[39m'\u001b[39;49m\u001b[39mutf-8\u001b[39;49m\u001b[39m'\u001b[39;49m)\n",
      "File \u001b[0;32m~/conda/x64/envs/torch1/lib/python3.10/site-packages/pandas/core/generic.py:3551\u001b[0m, in \u001b[0;36mNDFrame.to_csv\u001b[0;34m(self, path_or_buf, sep, na_rep, float_format, columns, header, index, index_label, mode, encoding, compression, quoting, quotechar, line_terminator, chunksize, date_format, doublequote, escapechar, decimal, errors, storage_options)\u001b[0m\n\u001b[1;32m   3540\u001b[0m df \u001b[39m=\u001b[39m \u001b[39mself\u001b[39m \u001b[39mif\u001b[39;00m \u001b[39misinstance\u001b[39m(\u001b[39mself\u001b[39m, ABCDataFrame) \u001b[39melse\u001b[39;00m \u001b[39mself\u001b[39m\u001b[39m.\u001b[39mto_frame()\n\u001b[1;32m   3542\u001b[0m formatter \u001b[39m=\u001b[39m DataFrameFormatter(\n\u001b[1;32m   3543\u001b[0m     frame\u001b[39m=\u001b[39mdf,\n\u001b[1;32m   3544\u001b[0m     header\u001b[39m=\u001b[39mheader,\n\u001b[0;32m   (...)\u001b[0m\n\u001b[1;32m   3548\u001b[0m     decimal\u001b[39m=\u001b[39mdecimal,\n\u001b[1;32m   3549\u001b[0m )\n\u001b[0;32m-> 3551\u001b[0m \u001b[39mreturn\u001b[39;00m DataFrameRenderer(formatter)\u001b[39m.\u001b[39;49mto_csv(\n\u001b[1;32m   3552\u001b[0m     path_or_buf,\n\u001b[1;32m   3553\u001b[0m     line_terminator\u001b[39m=\u001b[39;49mline_terminator,\n\u001b[1;32m   3554\u001b[0m     sep\u001b[39m=\u001b[39;49msep,\n\u001b[1;32m   3555\u001b[0m     encoding\u001b[39m=\u001b[39;49mencoding,\n\u001b[1;32m   3556\u001b[0m     errors\u001b[39m=\u001b[39;49merrors,\n\u001b[1;32m   3557\u001b[0m     compression\u001b[39m=\u001b[39;49mcompression,\n\u001b[1;32m   3558\u001b[0m     quoting\u001b[39m=\u001b[39;49mquoting,\n\u001b[1;32m   3559\u001b[0m     columns\u001b[39m=\u001b[39;49mcolumns,\n\u001b[1;32m   3560\u001b[0m     index_label\u001b[39m=\u001b[39;49mindex_label,\n\u001b[1;32m   3561\u001b[0m     mode\u001b[39m=\u001b[39;49mmode,\n\u001b[1;32m   3562\u001b[0m     chunksize\u001b[39m=\u001b[39;49mchunksize,\n\u001b[1;32m   3563\u001b[0m     quotechar\u001b[39m=\u001b[39;49mquotechar,\n\u001b[1;32m   3564\u001b[0m     date_format\u001b[39m=\u001b[39;49mdate_format,\n\u001b[1;32m   3565\u001b[0m     doublequote\u001b[39m=\u001b[39;49mdoublequote,\n\u001b[1;32m   3566\u001b[0m     escapechar\u001b[39m=\u001b[39;49mescapechar,\n\u001b[1;32m   3567\u001b[0m     storage_options\u001b[39m=\u001b[39;49mstorage_options,\n\u001b[1;32m   3568\u001b[0m )\n",
      "File \u001b[0;32m~/conda/x64/envs/torch1/lib/python3.10/site-packages/pandas/io/formats/format.py:1180\u001b[0m, in \u001b[0;36mDataFrameRenderer.to_csv\u001b[0;34m(self, path_or_buf, encoding, sep, columns, index_label, mode, compression, quoting, quotechar, line_terminator, chunksize, date_format, doublequote, escapechar, errors, storage_options)\u001b[0m\n\u001b[1;32m   1159\u001b[0m     created_buffer \u001b[39m=\u001b[39m \u001b[39mFalse\u001b[39;00m\n\u001b[1;32m   1161\u001b[0m csv_formatter \u001b[39m=\u001b[39m CSVFormatter(\n\u001b[1;32m   1162\u001b[0m     path_or_buf\u001b[39m=\u001b[39mpath_or_buf,\n\u001b[1;32m   1163\u001b[0m     line_terminator\u001b[39m=\u001b[39mline_terminator,\n\u001b[0;32m   (...)\u001b[0m\n\u001b[1;32m   1178\u001b[0m     formatter\u001b[39m=\u001b[39m\u001b[39mself\u001b[39m\u001b[39m.\u001b[39mfmt,\n\u001b[1;32m   1179\u001b[0m )\n\u001b[0;32m-> 1180\u001b[0m csv_formatter\u001b[39m.\u001b[39;49msave()\n\u001b[1;32m   1182\u001b[0m \u001b[39mif\u001b[39;00m created_buffer:\n\u001b[1;32m   1183\u001b[0m     \u001b[39massert\u001b[39;00m \u001b[39misinstance\u001b[39m(path_or_buf, StringIO)\n",
      "File \u001b[0;32m~/conda/x64/envs/torch1/lib/python3.10/site-packages/pandas/io/formats/csvs.py:241\u001b[0m, in \u001b[0;36mCSVFormatter.save\u001b[0;34m(self)\u001b[0m\n\u001b[1;32m    237\u001b[0m \u001b[39m\u001b[39m\u001b[39m\"\"\"\u001b[39;00m\n\u001b[1;32m    238\u001b[0m \u001b[39mCreate the writer & save.\u001b[39;00m\n\u001b[1;32m    239\u001b[0m \u001b[39m\"\"\"\u001b[39;00m\n\u001b[1;32m    240\u001b[0m \u001b[39m# apply compression and byte/text conversion\u001b[39;00m\n\u001b[0;32m--> 241\u001b[0m \u001b[39mwith\u001b[39;00m get_handle(\n\u001b[1;32m    242\u001b[0m     \u001b[39mself\u001b[39;49m\u001b[39m.\u001b[39;49mfilepath_or_buffer,\n\u001b[1;32m    243\u001b[0m     \u001b[39mself\u001b[39;49m\u001b[39m.\u001b[39;49mmode,\n\u001b[1;32m    244\u001b[0m     encoding\u001b[39m=\u001b[39;49m\u001b[39mself\u001b[39;49m\u001b[39m.\u001b[39;49mencoding,\n\u001b[1;32m    245\u001b[0m     errors\u001b[39m=\u001b[39;49m\u001b[39mself\u001b[39;49m\u001b[39m.\u001b[39;49merrors,\n\u001b[1;32m    246\u001b[0m     compression\u001b[39m=\u001b[39;49m\u001b[39mself\u001b[39;49m\u001b[39m.\u001b[39;49mcompression,\n\u001b[1;32m    247\u001b[0m     storage_options\u001b[39m=\u001b[39;49m\u001b[39mself\u001b[39;49m\u001b[39m.\u001b[39;49mstorage_options,\n\u001b[1;32m    248\u001b[0m ) \u001b[39mas\u001b[39;00m handles:\n\u001b[1;32m    249\u001b[0m \n\u001b[1;32m    250\u001b[0m     \u001b[39m# Note: self.encoding is irrelevant here\u001b[39;00m\n\u001b[1;32m    251\u001b[0m     \u001b[39mself\u001b[39m\u001b[39m.\u001b[39mwriter \u001b[39m=\u001b[39m csvlib\u001b[39m.\u001b[39mwriter(\n\u001b[1;32m    252\u001b[0m         handles\u001b[39m.\u001b[39mhandle,\n\u001b[1;32m    253\u001b[0m         lineterminator\u001b[39m=\u001b[39m\u001b[39mself\u001b[39m\u001b[39m.\u001b[39mline_terminator,\n\u001b[0;32m   (...)\u001b[0m\n\u001b[1;32m    258\u001b[0m         quotechar\u001b[39m=\u001b[39m\u001b[39mself\u001b[39m\u001b[39m.\u001b[39mquotechar,\n\u001b[1;32m    259\u001b[0m     )\n\u001b[1;32m    261\u001b[0m     \u001b[39mself\u001b[39m\u001b[39m.\u001b[39m_save()\n",
      "File \u001b[0;32m~/conda/x64/envs/torch1/lib/python3.10/site-packages/pandas/io/common.py:694\u001b[0m, in \u001b[0;36mget_handle\u001b[0;34m(path_or_buf, mode, encoding, compression, memory_map, is_text, errors, storage_options)\u001b[0m\n\u001b[1;32m    692\u001b[0m \u001b[39m# Only for write methods\u001b[39;00m\n\u001b[1;32m    693\u001b[0m \u001b[39mif\u001b[39;00m \u001b[39m\"\u001b[39m\u001b[39mr\u001b[39m\u001b[39m\"\u001b[39m \u001b[39mnot\u001b[39;00m \u001b[39min\u001b[39;00m mode \u001b[39mand\u001b[39;00m is_path:\n\u001b[0;32m--> 694\u001b[0m     check_parent_directory(\u001b[39mstr\u001b[39;49m(handle))\n\u001b[1;32m    696\u001b[0m \u001b[39mif\u001b[39;00m compression:\n\u001b[1;32m    697\u001b[0m     \u001b[39mif\u001b[39;00m compression \u001b[39m!=\u001b[39m \u001b[39m\"\u001b[39m\u001b[39mzstd\u001b[39m\u001b[39m\"\u001b[39m:\n\u001b[1;32m    698\u001b[0m         \u001b[39m# compression libraries do not like an explicit text-mode\u001b[39;00m\n",
      "File \u001b[0;32m~/conda/x64/envs/torch1/lib/python3.10/site-packages/pandas/io/common.py:568\u001b[0m, in \u001b[0;36mcheck_parent_directory\u001b[0;34m(path)\u001b[0m\n\u001b[1;32m    566\u001b[0m parent \u001b[39m=\u001b[39m Path(path)\u001b[39m.\u001b[39mparent\n\u001b[1;32m    567\u001b[0m \u001b[39mif\u001b[39;00m \u001b[39mnot\u001b[39;00m parent\u001b[39m.\u001b[39mis_dir():\n\u001b[0;32m--> 568\u001b[0m     \u001b[39mraise\u001b[39;00m \u001b[39mOSError\u001b[39;00m(\u001b[39mrf\u001b[39m\u001b[39m\"\u001b[39m\u001b[39mCannot save file into a non-existent directory: \u001b[39m\u001b[39m'\u001b[39m\u001b[39m{\u001b[39;00mparent\u001b[39m}\u001b[39;00m\u001b[39m'\u001b[39m\u001b[39m\"\u001b[39m)\n",
      "\u001b[0;31mOSError\u001b[0m: Cannot save file into a non-existent directory: 'processed_data'"
     ]
    }
   ],
   "source": [
    "clean_up()\n",
    "for pattern, dim in list_of_pattern_dim:\n",
    "    binary2csv(root, pattern, dim, debug = debug)"
   ]
  },
  {
   "cell_type": "code",
   "execution_count": null,
   "id": "bb65be9f-ba05-42cf-aa2b-062673dc8f68",
   "metadata": {},
   "outputs": [
    {
     "name": "stderr",
     "output_type": "stream",
     "text": [
      "  0%|                                                                                           | 0/81 [00:00<?, ?it/s]\n"
     ]
    }
   ],
   "source": [
    "check_len(root, list_of_pattern_dim, debug = debug)"
   ]
  },
  {
   "cell_type": "code",
   "execution_count": null,
   "id": "81577cfa-bd83-4369-8fd9-1e13bce1e2ad",
   "metadata": {},
   "outputs": [
    {
     "name": "stderr",
     "output_type": "stream",
     "text": [
      "  0%|                                                                                          | 0/162 [00:00<?, ?it/s]\n"
     ]
    }
   ],
   "source": [
    "# def check_disturbance():\n",
    "#     all_csv = glob.glob(os.path.join(save_folder, '*au.csv'))\n",
    "#     all_csv.extend(glob.glob(os.path.join(save_folder, '*face.csv')))\n",
    "#     all_csv.extend(glob.glob(os.path.join(save_folder, '*head.csv')))\n",
    "#     all_csv.extend(glob.glob(os.path.join(save_folder, '*skel.csv')))"
   ]
  },
  {
   "cell_type": "code",
   "execution_count": null,
   "id": "6dc501fe-ef16-42e4-abeb-4ea31d2ecb51",
   "metadata": {},
   "outputs": [
    {
     "name": "stderr",
     "output_type": "stream",
     "text": [
      "  0%|                                                                                          | 0/162 [03:07<?, ?it/s]\n"
     ]
    }
   ],
   "source": []
  },
  {
   "cell_type": "code",
   "execution_count": null,
   "id": "b1c6fe16-dfb3-45b0-a1c5-e191bdcbf553",
   "metadata": {},
   "outputs": [
    {
     "name": "stderr",
     "output_type": "stream",
     "text": [
      "  0%|                                                                                          | 0/162 [00:11<?, ?it/s]\n"
     ]
    }
   ],
   "source": []
  },
  {
   "cell_type": "code",
   "execution_count": null,
   "id": "bc11c260-bd65-4ccc-a8d8-1d3c07c4e96e",
   "metadata": {},
   "outputs": [],
   "source": []
  }
 ],
 "metadata": {
  "kernelspec": {
   "display_name": "torch1",
   "language": "python",
   "name": "python3"
  },
  "language_info": {
   "codemirror_mode": {
    "name": "ipython",
    "version": 3
   },
   "file_extension": ".py",
   "mimetype": "text/x-python",
   "name": "python",
   "nbconvert_exporter": "python",
   "pygments_lexer": "ipython3",
   "version": "3.10.8"
  }
 },
 "nbformat": 4,
 "nbformat_minor": 5
}
